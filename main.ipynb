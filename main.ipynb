{
 "cells": [
  {
   "cell_type": "code",
   "execution_count": 10,
   "metadata": {},
   "outputs": [],
   "source": [
    "import gspread\n",
    "from oauth2client.service_account import ServiceAccountCredentials\n",
    "from datetime import datetime\n",
    "from meteostat import Stations, Daily, Hourly\n",
    "from geopy.geocoders import Nominatim\n",
    "import matplotlib.pyplot as plt\n",
    "import matplotlib.image as mpimg\n",
    "import geos\n",
    "import pandas as pd\n",
    "import numpy as np\n",
    "import os"
   ]
  },
  {
   "cell_type": "code",
   "execution_count": 11,
   "metadata": {},
   "outputs": [],
   "source": [
    "scope = [\"https://spreadsheets.google.com/feeds\",\n",
    "         'https://www.googleapis.com/auth/spreadsheets',\n",
    "         \"https://www.googleapis.com/auth/drive.file\",\n",
    "         \"https://www.googleapis.com/auth/drive\"]\n",
    "\n",
    "creds = ServiceAccountCredentials.from_json_keyfile_name(\"WetterstationIT.json\", scope)\n",
    "client = gspread.authorize(creds)"
   ]
  },
  {
   "cell_type": "code",
   "execution_count": 22,
   "metadata": {},
   "outputs": [],
   "source": [
    "temp = \"Temperatur in (°C)\"\n",
    "rhum = \"Relative Luftfeuchtigkeit in (%)\"\n",
    "pres = \"Luftdruck in (hPa)\"\n",
    "\n",
    "locations = (\"Euskirchen\", \"Schmidt, Nideggen\", \"Muetzenich\")\n",
    "parameters = (temp, rhum, pres)\n",
    "\n",
    "#Koordinaten vom Ort\n",
    "def get_coordinates(location):\n",
    "    geolocator = Nominatim(user_agent=\"Wetterstation\")\n",
    "    location = geolocator.geocode(location)\n",
    "    coordinates = (location.latitude, location.longitude)\n",
    "    return coordinates  \n",
    "\n",
    "#nächste Wetterstation von Koordinaten\n",
    "def get_closest_weather_station(lat, lon, start, end):\n",
    "    stations = Stations()\n",
    "    stations = stations.nearby(lat, lon)\n",
    "    stations = stations.inventory('hourly', (start, end))\n",
    "    station = stations.fetch(1)\n",
    "    return station\n",
    "\n",
    "#Prognostizierte Daten auslesen und zeitlich eingrenzen\n",
    "def get_prognosed_data(station, start, end):\n",
    "    data = Hourly(station, start=start, end=end)\n",
    "    data = data.normalize()\n",
    "    data = data.interpolate()\n",
    "    data = data.fetch()\n",
    "    data = data[[\"temp\", \"rhum\", \"pres\"]]\n",
    "    data = data.rename(columns={\"temp\": temp, \"rhum\": rhum, \"pres\": pres})\n",
    "    data = data.loc[data.index >= start]\n",
    "    data = data.loc[data.index <= end]\n",
    "    return data\n",
    "\n",
    "#gemessene Daten auslesen\n",
    "def get_measurement_data(location):\n",
    "    sheet = client.open(location).sheet1  # Open the spreadhseet\n",
    "    data = sheet.get_all_records()  # Get a list of all records\n",
    "    data = pd.DataFrame(data)\n",
    "    data[\"Date\"] = pd.to_datetime(data[\"Date\"])\n",
    "    data = data.set_index(keys = data[\"Date\"])\n",
    "    data = data[[\"Temperatur\", \"Humidity\", \"Pressure\"]]\n",
    "    data = data.rename(columns={\"Temperatur\": temp, \"Humidity\": rhum, \"Pressure\": pres})\n",
    "    # clear data from units\n",
    "    data[temp] = data[temp].str.strip(\"C\")\n",
    "    data[rhum] = data[rhum].str.strip(\"%\")\n",
    "    data[pres] = data[pres].str.strip(\"hPa\")\n",
    "    data = data.astype(\"float\")\n",
    "    return data"
   ]
  },
  {
   "cell_type": "code",
   "execution_count": 55,
   "metadata": {},
   "outputs": [],
   "source": [
    "mean_std = {}\n",
    "for location in locations:\n",
    "\n",
    "    #get measured data\n",
    "\n",
    "    measured_data = get_measurement_data(location)\n",
    "    \n",
    "    #get prognosed data\n",
    "    start = measured_data.index[0]\n",
    "    end = measured_data.index[-1]\n",
    "    \n",
    "    #Nächste Wetterstation von Muetzenich gibt keine Daten aus; die nächste die Daten ausgibt ist Elsenborn\n",
    "    if location == \"Muetzenich\":\n",
    "        location = \"Elsenborn\"\n",
    "    else:\n",
    "        pass\n",
    "    \n",
    "    lat, lon = get_coordinates(location)\n",
    "    station = get_closest_weather_station(lat, lon, start, end)\n",
    "    prognosed_data = get_prognosed_data(station, start, end)\n",
    "    \n",
    "    if location == \"Elsenborn\":\n",
    "        location = \"Muetzenich\"\n",
    "    else:\n",
    "        pass\n",
    "    \n",
    "    #Iteriere über die Parameter und erstelle Plot für jeden Parameter (für jeden Ort)\n",
    "    for parameter in parameters:\n",
    "        \n",
    "        plt.ioff()\n",
    "        plt.clf()\n",
    "        plt.title(location)  \n",
    "        measured_data[parameter].plot(label = \"gemessen\")\n",
    "        prognosed_data[parameter].plot(label = \"prognostiziert\")\n",
    "        mean = np.mean(measured_data[parameter]-prognosed_data[parameter])\n",
    "        std = np.std(measured_data[parameter]-prognosed_data[parameter])\n",
    "        \n",
    "        mean_std[(str(location) + \": \"+ str(parameter))] = {\"Mittlere Abweichung: \": mean, \"Standardabweichung: \": std}\n",
    "        \n",
    "        plt.xlabel(\"Datum\")\n",
    "        plt.ylabel(parameter)\n",
    "        plt.legend()\n",
    "        \n",
    "        file_name = parameter + \" \" +  location\n",
    "        \n",
    "        dir_name = \"figures\"\n",
    "        file_path = os.path.join(dir_name, file_name)\n",
    "        \n",
    "        # Versuche Datei im Ordner zu speichern. Falls Ordner nicht vorhanden ist: Ordner erstellen; Datei speichern\n",
    "        try:\n",
    "            plt.savefig(file_path)\n",
    "            \n",
    "        except:\n",
    "            os.mkdir(dir_name)\n",
    "            plt.savefig(file_path)\n",
    "        plt.close()\n"
   ]
  },
  {
   "cell_type": "code",
   "execution_count": 21,
   "metadata": {},
   "outputs": [
    {
     "name": "stdout",
     "output_type": "stream",
     "text": [
      "Bitte geben sie einen Ort ein (('Euskirchen', 'Schmidt, Nideggen', 'Muetzenich')): Schmidt, Nideggen\n",
      "Welchen Parameter möchten Sie abfragen? (('Temperatur in (°C)', 'Relative Luftfeuchtigkeit in (%)', 'Luftdruck in (hPa)'))\n",
      "Bitte geben Sie einen Parameter ein: Temperatur in (°C)\n"
     ]
    },
    {
     "data": {
      "image/png": "[encoded data removed]",
      "text/plain": [
       "<Figure size 432x288 with 1 Axes>"
      ]
     },
     "metadata": {
      "needs_background": "light"
     },
     "output_type": "display_data"
    },
    {
     "name": "stdout",
     "output_type": "stream",
     "text": [
      "Alle Plots finden Sie unter folgendem Pfad:\n",
      "/Users/matthiassimons/OneDrive - Fachhochschule Aachen/Studium/Master/Programmierung und Informationsverarbeitung/Wetterstation/figures\n"
     ]
    }
   ],
   "source": [
    "files = os.listdir(dir_name)\n",
    "#User Abfrage: Ort\n",
    "location = input (\"Bitte geben sie einen Ort ein ({}): \".format(locations))\n",
    "\n",
    "while location not in locations:\n",
    "    print(\"Ort nicht verfügbar - Bitte erneut Eingeben.\")\n",
    "    location = input(\"Bitte geben Sie einen Ort ein ({}): \".format(locations))\n",
    "\n",
    "#User Abfrage: Parameter\n",
    "parameter = input (\"Welchen Parameter möchten Sie abfragen? ({})\\nBitte geben Sie einen Parameter ein: \".format(parameters))\n",
    "\n",
    "while parameter not in parameters:\n",
    "    print(\"Parameter nicht verfügbar - Bitte erneut Eingeben.\")\n",
    "    parameter = input(\"Bitte geben Sie einen Parameter ein ({}): \".format(parameters))\n",
    "\n",
    "#gewünschten Plot öffnen und anzeigen\n",
    "for file in files:\n",
    "    if parameter in file and location in file:      \n",
    "        img = mpimg.imread(os.path.join(dir_name, file))\n",
    "        plt.imshow(img)\n",
    "        plt.axis('off')\n",
    "        plt.show()\n",
    "\n",
    "#absoluter Pfad wo die Plots gespeichert sind\n",
    "print(\"Alle Plots finden Sie unter folgendem Pfad:\\n\" + os.path.abspath(dir_name))       "
   ]
  },
  {
   "cell_type": "code",
   "execution_count": 72,
   "metadata": {},
   "outputs": [
    {
     "name": "stdout",
     "output_type": "stream",
     "text": [
      "Euskirchen: Temperatur in (°C): \n",
      "Mittlere Abweichung: 1.42\n",
      "Standardabweichung: 0.74\n",
      "\n",
      "Euskirchen: Relative Luftfeuchtigkeit in (%): \n",
      "Mittlere Abweichung: -16.38\n",
      "Standardabweichung: 2.64\n",
      "\n",
      "Euskirchen: Luftdruck in (hPa): \n",
      "Mittlere Abweichung: 16.17\n",
      "Standardabweichung: 0.82\n",
      "\n",
      "Schmidt, Nideggen: Temperatur in (°C): \n",
      "Mittlere Abweichung: 1.91\n",
      "Standardabweichung: 0.73\n",
      "\n",
      "Schmidt, Nideggen: Relative Luftfeuchtigkeit in (%): \n",
      "Mittlere Abweichung: -23.79\n",
      "Standardabweichung: 3.48\n",
      "\n",
      "Schmidt, Nideggen: Luftdruck in (hPa): \n",
      "Mittlere Abweichung: -19.71\n",
      "Standardabweichung: 0.31\n",
      "\n",
      "Muetzenich: Temperatur in (°C): \n",
      "Mittlere Abweichung: -1.36\n",
      "Standardabweichung: 0.56\n",
      "\n",
      "Muetzenich: Relative Luftfeuchtigkeit in (%): \n",
      "Mittlere Abweichung: -10.14\n",
      "Standardabweichung: 1.73\n",
      "\n",
      "Muetzenich: Luftdruck in (hPa): \n",
      "Mittlere Abweichung: -30.42\n",
      "Standardabweichung: 0.75\n",
      "\n"
     ]
    }
   ],
   "source": [
    "for value in mean_std:\n",
    "    print(str(value) + \": \\n\" + \n",
    "          'Mittlere Abweichung: '+ str(round(mean_std[value]['Mittlere Abweichung: '], 2)) + \"\\n\"\n",
    "    + 'Standardabweichung: '+ str(round(mean_std[value]['Standardabweichung: '],2 )) + \"\\n\")"
   ]
  },
  {
   "cell_type": "code",
   "execution_count": null,
   "metadata": {},
   "outputs": [],
   "source": []
  }
 ],
 "metadata": {
  "kernelspec": {
   "display_name": "Python 3",
   "language": "python",
   "name": "python3"
  },
  "language_info": {
   "codemirror_mode": {
    "name": "ipython",
    "version": 3
   },
   "file_extension": ".py",
   "mimetype": "text/x-python",
   "name": "python",
   "nbconvert_exporter": "python",
   "pygments_lexer": "ipython3",
   "version": "3.8.3"
  }
 },
 "nbformat": 4,
 "nbformat_minor": 4
}
