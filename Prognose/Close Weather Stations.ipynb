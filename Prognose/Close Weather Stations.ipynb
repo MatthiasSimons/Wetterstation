{
 "cells": [
  {
   "cell_type": "code",
   "execution_count": 1,
   "metadata": {},
   "outputs": [],
   "source": [
    "# Import Meteostat library and dependencies\n",
    "from datetime import datetime\n",
    "import matplotlib.pyplot as plt\n",
    "from meteostat import Stations, Daily, Hourly\n",
    "from geopy.geocoders import Nominatim\n",
    "import matplotlib.pyplot as plt\n",
    "import mpl_toolkits\n",
    "\n",
    "\n",
    "import geos\n",
    "import time\n",
    "\n",
    "import pandas as pd\n",
    "import numpy as np"
   ]
  },
  {
   "cell_type": "code",
   "execution_count": 43,
   "metadata": {},
   "outputs": [],
   "source": [
    "def get_coordinates(ort):\n",
    "    geolocator = Nominatim(user_agent=\"Wetterstation\")\n",
    "    location = geolocator.geocode(ort)\n",
    "    coordinates = (location.latitude, location.longitude)\n",
    "    return coordinates  \n",
    "\n",
    "def get_close_weather_stations(lat, lon, start, end):\n",
    "    stations = Stations()\n",
    "    stations = stations.nearby(lat, lon)\n",
    "    #stations = stations.inventory('hourly', (start, end))\n",
    "    station = stations.fetch(5)\n",
    "    return station\n",
    "\n",
    "def get_data(station, start, end):\n",
    "    data = Hourly(station, start=start, end=end)\n",
    "    data = data.normalize()\n",
    "    data = data.interpolate()\n",
    "    data = data.fetch()\n",
    "    data = data.loc[data.index >= start]\n",
    "    data = data.loc[data.index <= end]\n",
    "    return data"
   ]
  },
  {
   "cell_type": "code",
   "execution_count": 44,
   "metadata": {},
   "outputs": [],
   "source": [
    "locations = (\"Euskirchen\", \"Schmidt, Nideggen\", \"Muetzenich\")\n",
    "start = datetime(2020, 12, 7) \n",
    "end = datetime(2020, 12, 8)\n",
    "\n",
    "location = locations[2]\n",
    "lat, lon = get_coordinates(location)"
   ]
  }
 ],
 "metadata": {
  "kernelspec": {
   "display_name": "Python 3",
   "language": "python",
   "name": "python3"
  },
  "language_info": {
   "codemirror_mode": {
    "name": "ipython",
    "version": 3
   },
   "file_extension": ".py",
   "mimetype": "text/x-python",
   "name": "python",
   "nbconvert_exporter": "python",
   "pygments_lexer": "ipython3",
   "version": "3.8.3"
  }
 },
 "nbformat": 4,
 "nbformat_minor": 4
}
